{
 "cells": [
  {
   "cell_type": "code",
   "execution_count": 40,
   "metadata": {},
   "outputs": [],
   "source": [
    "#spark MLlib\n",
    "#spark sql\n",
    "\n",
    "from pyspark.sql import SparkSession\n",
    "from pyspark import SparkContext\n",
    "from pyspark import SparkConf\n",
    "from pyspark.sql import SQLContext\n",
    "from pyspark.sql import Row\n",
    "from pyspark.ml import feature \n",
    "from pyspark.ml import classification\n",
    "\n",
    "spark = SparkSession\\\n",
    "    .builder\\\n",
    "    .appName(\"example-spark\")\\\n",
    "    .config(\"spark.sql.crossJoin.enabled\",\"true\")\\\n",
    "    .getOrCreate()"
   ]
  },
  {
   "cell_type": "code",
   "execution_count": 2,
   "metadata": {},
   "outputs": [],
   "source": [
    "heroes = spark.createDataFrame([(\"Luke\", 53, True), (\"Leia\", 53, False), (\"Han\", 64, False),(\"Rei\", 19,True)],schema=[\"name\",\"age\",\"jedi\"])"
   ]
  },
  {
   "cell_type": "code",
   "execution_count": 3,
   "metadata": {},
   "outputs": [
    {
     "name": "stdout",
     "output_type": "stream",
     "text": [
      "root\n",
      " |-- name: string (nullable = true)\n",
      " |-- age: long (nullable = true)\n",
      " |-- jedi: boolean (nullable = true)\n",
      "\n"
     ]
    }
   ],
   "source": [
    "heroes.printSchema()"
   ]
  },
  {
   "cell_type": "code",
   "execution_count": 4,
   "metadata": {},
   "outputs": [
    {
     "name": "stdout",
     "output_type": "stream",
     "text": [
      "+----+---+-----+\n",
      "|name|age| jedi|\n",
      "+----+---+-----+\n",
      "|Luke| 53| true|\n",
      "|Leia| 53|false|\n",
      "| Han| 64|false|\n",
      "| Rei| 19| true|\n",
      "+----+---+-----+\n",
      "\n"
     ]
    }
   ],
   "source": [
    "heroes.show()"
   ]
  },
  {
   "cell_type": "code",
   "execution_count": 5,
   "metadata": {},
   "outputs": [
    {
     "name": "stdout",
     "output_type": "stream",
     "text": [
      "+----+---+----+\n",
      "|name|age|jedi|\n",
      "+----+---+----+\n",
      "|Luke| 53|true|\n",
      "| Rei| 19|true|\n",
      "+----+---+----+\n",
      "\n"
     ]
    }
   ],
   "source": [
    "heroes.filter(heroes.jedi == True).show()"
   ]
  },
  {
   "cell_type": "code",
   "execution_count": 6,
   "metadata": {},
   "outputs": [
    {
     "name": "stdout",
     "output_type": "stream",
     "text": [
      "+----+---+-----+\n",
      "|name|age| jedi|\n",
      "+----+---+-----+\n",
      "| Han| 64|false|\n",
      "+----+---+-----+\n",
      "\n"
     ]
    }
   ],
   "source": [
    "heroes.filter(heroes.jedi == False).filter(heroes.age>60).show()"
   ]
  },
  {
   "cell_type": "code",
   "execution_count": 7,
   "metadata": {},
   "outputs": [
    {
     "name": "stdout",
     "output_type": "stream",
     "text": [
      "+----+---+\n",
      "|name|age|\n",
      "+----+---+\n",
      "| Rei| 19|\n",
      "|Leia| 53|\n",
      "|Luke| 53|\n",
      "| Han| 64|\n",
      "+----+---+\n",
      "\n"
     ]
    }
   ],
   "source": [
    "heroes.select(\"name\", \"age\").orderBy(\"age\").show()"
   ]
  },
  {
   "cell_type": "code",
   "execution_count": 8,
   "metadata": {},
   "outputs": [
    {
     "name": "stdout",
     "output_type": "stream",
     "text": [
      "+----+---+\n",
      "|name|age|\n",
      "+----+---+\n",
      "| Rei| 19|\n",
      "|Luke| 53|\n",
      "|Leia| 53|\n",
      "+----+---+\n",
      "\n"
     ]
    }
   ],
   "source": [
    "heroes.select(\"name\", \"age\").orderBy(\"age\").limit(3).show()"
   ]
  },
  {
   "cell_type": "code",
   "execution_count": 9,
   "metadata": {},
   "outputs": [
    {
     "name": "stdout",
     "output_type": "stream",
     "text": [
      "+----+---+-----+\n",
      "|name|age| jedi|\n",
      "+----+---+-----+\n",
      "| Han| 64|false|\n",
      "|Leia| 53|false|\n",
      "+----+---+-----+\n",
      "\n"
     ]
    }
   ],
   "source": [
    "#creation vu pour requete sql\n",
    "heroes.createTempView(\"heroes_view\")\n",
    "spark.sql(\"SELECT * FROM heroes_view ORDER BY name LIMIT 2\").show()"
   ]
  },
  {
   "cell_type": "code",
   "execution_count": 10,
   "metadata": {},
   "outputs": [
    {
     "data": {
      "text/plain": [
       "MapPartitionsRDD[42] at javaToPython at NativeMethodAccessorImpl.java:0"
      ]
     },
     "execution_count": 10,
     "metadata": {},
     "output_type": "execute_result"
    }
   ],
   "source": [
    "#Passage DF => RDD\n",
    "heroes.rdd"
   ]
  },
  {
   "cell_type": "code",
   "execution_count": 11,
   "metadata": {},
   "outputs": [
    {
     "name": "stdout",
     "output_type": "stream",
     "text": [
      "Luke 53 True\n"
     ]
    }
   ],
   "source": [
    "row = heroes.rdd.first()\n",
    "print( row.name, row.age, row.jedi)"
   ]
  },
  {
   "cell_type": "code",
   "execution_count": 12,
   "metadata": {},
   "outputs": [
    {
     "data": {
      "text/plain": [
       "Row(jedi=False, name='Jyn')"
      ]
     },
     "execution_count": 12,
     "metadata": {},
     "output_type": "execute_result"
    }
   ],
   "source": [
    "Row(name=\"Jyn\", jedi=False)"
   ]
  },
  {
   "cell_type": "code",
   "execution_count": 11,
   "metadata": {},
   "outputs": [],
   "source": [
    "####avec l'iliad chargement des mots\n",
    "sc = spark.sparkContext\n",
    "iliad_rdd = sc.textFile('..\\data\\iliad.mb.txt').flatMap(lambda line: line.split()).map(lambda word: word.strip(',.;:?!-\"'))\n",
    "#creation des rows \n",
    "iliad_rows = iliad_rdd.map(lambda word: Row(word=word))\n",
    "iliad_rows\n",
    "## RDD => DF\n",
    "iliad = spark.createDataFrame(iliad_rows)\n"
   ]
  },
  {
   "cell_type": "code",
   "execution_count": 12,
   "metadata": {},
   "outputs": [
    {
     "name": "stdout",
     "output_type": "stream",
     "text": [
      "+----------+\n",
      "|      word|\n",
      "+----------+\n",
      "|      zeal|\n",
      "|    youths|\n",
      "|     youth|\n",
      "| youselves|\n",
      "|yourselves|\n",
      "|  yourself|\n",
      "|     yours|\n",
      "|   yourelf|\n",
      "|      your|\n",
      "|  youngest|\n",
      "+----------+\n",
      "only showing top 10 rows\n",
      "\n"
     ]
    }
   ],
   "source": [
    "iliad.orderBy(\"word\", ascending=False).distinct().show(10)"
   ]
  },
  {
   "cell_type": "code",
   "execution_count": 23,
   "metadata": {},
   "outputs": [],
   "source": [
    "####Iliad odyssee\n",
    "iliad = sc.textFile('..\\data\\iliad.mb.txt').\\\n",
    "    map(lambda line: line.split()).\\\n",
    "    map(lambda words: [w.strip(',.;:?!-\"') for w in words])"
   ]
  },
  {
   "cell_type": "code",
   "execution_count": 24,
   "metadata": {},
   "outputs": [
    {
     "name": "stdout",
     "output_type": "stream",
     "text": [
      "['Thus', 'did', 'he', 'speak', 'and', 'his', 'brother', 'was', 'persuaded', 'by', 'him', 'for', 'his', 'words']\n",
      "['clouds', 'of', 'dust', 'they', 'raised', 'and', 'the', 'horses', 'strained', 'every', 'nerve', 'in']\n",
      "['Achilles', 'answered', 'Ulysses', 'noble', 'son', 'of', 'Laertes', 'I', 'should', 'give', 'you']\n",
      "['On', 'this', 'the', 'mighty', 'monster', 'hobbled', 'off', 'from', 'his', 'anvil', 'his', 'thin', 'legs']\n",
      "['he', 'would', 'give', 'me', 'the', 'horses', 'of', 'the', 'noble', 'son', 'of', 'Peleus', 'and', 'his', 'bronze-bedizened']\n",
      "['of', 'Achilles', 'under', 'the', 'walls', 'of', 'Troy', 'Therefore', 'be', 'staunch', 'and', 'urge']\n",
      "['and', 'as', 'many', 'flocks', 'of', 'sheep', 'fifty', 'droves', 'also', 'of', 'pigs', 'and', 'as', 'many']\n",
      "['Thus', 'did', 'he', 'stand', 'and', 'ponder', 'but', 'Achilles', 'came', 'up', 'to', 'him', 'as', 'it', 'were']\n",
      "['your', 'neck', 'nor', 'back', 'but', 'the', 'weapon', 'would', 'hit', 'you', 'in', 'the', 'chest', 'or', 'belly']\n",
      "['Thus', 'did', 'he', 'urge', 'Minerva', 'who', 'was', 'already', 'eager', 'and', 'down', 'she', 'darted']\n"
     ]
    }
   ],
   "source": [
    "for line in iliad.takeSample(False, 10):\n",
    "    print(line)"
   ]
  },
  {
   "cell_type": "code",
   "execution_count": 25,
   "metadata": {},
   "outputs": [],
   "source": [
    "odyssey = sc.textFile('..\\data\\odyssey.mb.txt').\\\n",
    "    map(lambda line: line.split()).\\\n",
    "    map(lambda words: [w.strip(',.;:?!-\"') for w in words])"
   ]
  },
  {
   "cell_type": "code",
   "execution_count": 26,
   "metadata": {},
   "outputs": [
    {
     "name": "stdout",
     "output_type": "stream",
     "text": [
      "['could', 'neither', 'spring', 'forward', 'to', 'recover', 'his', 'own', 'weapon', 'nor', 'swerve']\n",
      "['With', 'these', 'words', 'he', 'moved', 'the', 'heart', 'of', 'Aeneas', 'and', 'he', 'went', 'in', 'pursuit']\n",
      "['others', 'shall', 'not', 'be', 'of', 'a', 'mind', 'with', 'you']\n",
      "['Antilochus', 'was', 'more', 'angry', 'than', 'any', 'one', 'but', 'grief', 'did', 'not', 'make', 'him']\n",
      "['still', 'bid', 'both', 'come', 'for', 'it', 'will', 'be', 'all', 'over', 'with', 'us', 'here', 'directly']\n",
      "['of', 'Polydamas', 'but', 'Asius', 'son', 'of', 'Hyrtacus', 'would', 'not', 'leave', 'his', 'horses']\n",
      "['smoke', 'Then', 'he', 'stood', 'up', 'and', 'spoke', 'among', 'the', 'Argives', 'saying']\n",
      "['the', 'other', 'gods', 'for', 'they', 'were', 'of', 'divided', 'counsels', 'They', 'fell', 'on', 'one']\n",
      "['of', 'Hades']\n",
      "['sacrifices', 'of', 'bulls', 'and', 'rams', 'These', 'were', 'commanded', 'by', 'Menestheus']\n"
     ]
    }
   ],
   "source": [
    "for line in iliad.takeSample(False, 10):\n",
    "    print(line)"
   ]
  },
  {
   "cell_type": "code",
   "execution_count": 27,
   "metadata": {},
   "outputs": [],
   "source": [
    "iliad = iliad.map(lambda words: Row(label=0,words=words))\n",
    "odyssey = odyssey.map(lambda words: Row(label=1,words=words))"
   ]
  },
  {
   "cell_type": "code",
   "execution_count": 29,
   "metadata": {},
   "outputs": [],
   "source": [
    "df = spark.createDataFrame(iliad.union(odyssey))"
   ]
  },
  {
   "cell_type": "code",
   "execution_count": 38,
   "metadata": {},
   "outputs": [
    {
     "name": "stdout",
     "output_type": "stream",
     "text": [
      "root\n",
      " |-- label: long (nullable = true)\n",
      " |-- words: array (nullable = true)\n",
      " |    |-- element: string (containsNull = true)\n",
      " |-- bag_of_words: vector (nullable = true)\n",
      "\n"
     ]
    }
   ],
   "source": [
    "#mot => floatant // sac de mots\n",
    "vectorizer = feature.CountVectorizer(inputCol=\"words\", outputCol=\"bag_of_words\").fit(df)\n",
    "features = vectorizer.transform(df)\n",
    "features.printSchema()"
   ]
  },
  {
   "cell_type": "code",
   "execution_count": 39,
   "metadata": {},
   "outputs": [],
   "source": [
    "#training /test set\n",
    "train, test = features.randomSplit([0.75, 0.25])"
   ]
  },
  {
   "cell_type": "code",
   "execution_count": 42,
   "metadata": {},
   "outputs": [],
   "source": [
    "#apprentissage bayesien naif\n",
    "classifier = classification.NaiveBayes(labelCol=\"label\", featuresCol=\"bag_of_words\", predictionCol=\"label_predicted\").fit(train)"
   ]
  },
  {
   "cell_type": "code",
   "execution_count": 43,
   "metadata": {},
   "outputs": [],
   "source": [
    "#application\n",
    "predicted = classifier.transform(test)"
   ]
  },
  {
   "cell_type": "code",
   "execution_count": 45,
   "metadata": {},
   "outputs": [
    {
     "name": "stdout",
     "output_type": "stream",
     "text": [
      "0.783252871649742\n"
     ]
    }
   ],
   "source": [
    "#precision\n",
    "accuracy = predicted.filter(predicted.label_predicted == predicted.label).count()/ float(predicted.count())\n",
    "print(accuracy)"
   ]
  },
  {
   "cell_type": "code",
   "execution_count": null,
   "metadata": {},
   "outputs": [],
   "source": []
  }
 ],
 "metadata": {
  "kernelspec": {
   "display_name": "Python 3",
   "language": "python",
   "name": "python3"
  }
 },
 "nbformat": 4,
 "nbformat_minor": 2
}
